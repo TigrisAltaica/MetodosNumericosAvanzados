{
 "metadata": {
  "language": "Julia",
  "name": "",
  "signature": "sha256:0442d95cc7ed0813a34bc6057781e954e3745778df9e79aeed2eeca93f35f09e"
 },
 "nbformat": 3,
 "nbformat_minor": 0,
 "worksheets": [
  {
   "cells": [
    {
     "cell_type": "heading",
     "level": 1,
     "metadata": {},
     "source": [
      "Funciones con y sin salida"
     ]
    },
    {
     "cell_type": "markdown",
     "metadata": {},
     "source": [
      "\u00bfCu\u00e1l es la diferencia entre las siguientes dos funciones?"
     ]
    },
    {
     "cell_type": "code",
     "collapsed": false,
     "input": [
      "mysin(x) = sin(x)\n",
      "mysin2(x) = println(sin(x))"
     ],
     "language": "python",
     "metadata": {},
     "outputs": [
      {
       "metadata": {},
       "output_type": "pyout",
       "prompt_number": 1,
       "text": [
        "mysin2 (generic function with 1 method)"
       ]
      }
     ],
     "prompt_number": 1
    },
    {
     "cell_type": "code",
     "collapsed": false,
     "input": [
      "mysin(3)"
     ],
     "language": "python",
     "metadata": {},
     "outputs": [
      {
       "metadata": {},
       "output_type": "pyout",
       "prompt_number": 2,
       "text": [
        "0.1411200080598672"
       ]
      }
     ],
     "prompt_number": 2
    },
    {
     "cell_type": "code",
     "collapsed": false,
     "input": [
      "mysin2(3)"
     ],
     "language": "python",
     "metadata": {},
     "outputs": [
      {
       "output_type": "stream",
       "stream": "stdout",
       "text": [
        "0.1411200080598672"
       ]
      },
      {
       "output_type": "stream",
       "stream": "stdout",
       "text": [
        "\n"
       ]
      }
     ],
     "prompt_number": 3
    },
    {
     "cell_type": "code",
     "collapsed": false,
     "input": [
      "x = mysin(3)\n",
      "x"
     ],
     "language": "python",
     "metadata": {},
     "outputs": [
      {
       "metadata": {},
       "output_type": "pyout",
       "prompt_number": 10,
       "text": [
        "0.1411200080598672"
       ]
      }
     ],
     "prompt_number": 10
    },
    {
     "cell_type": "code",
     "collapsed": false,
     "input": [
      "x"
     ],
     "language": "python",
     "metadata": {},
     "outputs": [
      {
       "metadata": {},
       "output_type": "pyout",
       "prompt_number": 11,
       "text": [
        "0.1411200080598672"
       ]
      }
     ],
     "prompt_number": 11
    },
    {
     "cell_type": "code",
     "collapsed": false,
     "input": [
      "x = mysin2(3)\n",
      "x"
     ],
     "language": "python",
     "metadata": {},
     "outputs": [
      {
       "output_type": "stream",
       "stream": "stdout",
       "text": [
        "0.1411200080598672"
       ]
      },
      {
       "output_type": "stream",
       "stream": "stdout",
       "text": [
        "\n"
       ]
      }
     ],
     "prompt_number": 12
    },
    {
     "cell_type": "code",
     "collapsed": false,
     "input": [
      "x"
     ],
     "language": "python",
     "metadata": {},
     "outputs": [],
     "prompt_number": 13
    },
    {
     "cell_type": "markdown",
     "metadata": {},
     "source": [
      "La segunda versi\u00f3n no es \u00fatil, en el sentido que **no regresa nada**; el valor que se calcul\u00f3 se *desapereci\u00f3*.\n",
      "Por lo tanto, casi siempre queremos que las funciones no **impriman** (excepto para depurar el c\u00f3digo), sino que **regresen** valores."
     ]
    },
    {
     "cell_type": "heading",
     "level": 1,
     "metadata": {},
     "source": [
      "Reutilizar c\u00f3digo"
     ]
    },
    {
     "cell_type": "markdown",
     "metadata": {},
     "source": [
      "\u00bfC\u00f3mo podemos *reutilizar* c\u00f3digo que ya hemos escrito?\n",
      "\n",
      "**No** (es decir **nunca**) copiamos y pegamos.\n",
      "\n",
      "M\u00e1s bien, existe una manera f\u00e1cil y \u00e1gil de \"guardar\" un pedazo de c\u00f3digo para que lo podamos reutilizar despu\u00e9s: ponerlo en una **funci\u00f3n**. Las funciones **existen** para hacer disponible el trabajo que ya hemos hecho para que lo podamos reutilizar despu\u00e9s."
     ]
    },
    {
     "cell_type": "heading",
     "level": 1,
     "metadata": {},
     "source": [
      "Estabilidad de tipos"
     ]
    },
    {
     "cell_type": "markdown",
     "metadata": {},
     "source": [
      "Haz"
     ]
    },
    {
     "cell_type": "code",
     "collapsed": false,
     "input": [
      "2^(-1)"
     ],
     "language": "python",
     "metadata": {},
     "outputs": []
    },
    {
     "cell_type": "markdown",
     "metadata": {},
     "source": [
      "\u00bfQu\u00e9 pasa? \u00bfPor qu\u00e9?\n",
      "\n",
      "En Julia, siempre debemos intentar que las funciones regresen siempre el mismo tipo de respuesta."
     ]
    }
   ],
   "metadata": {}
  }
 ]
}