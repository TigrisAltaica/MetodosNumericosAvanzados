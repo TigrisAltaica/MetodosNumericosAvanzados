{
 "metadata": {
  "language": "Julia",
  "name": "",
  "signature": "sha256:41778296464a0f9259af36096960144cbb902efeba3c4773a29219461e8225ff"
 },
 "nbformat": 3,
 "nbformat_minor": 0,
 "worksheets": [
  {
   "cells": [
    {
     "cell_type": "markdown",
     "metadata": {},
     "source": [
      "En este notebook, investigaremos c\u00f3mo se representan los n\u00fameros enteros y reales en la computadora."
     ]
    },
    {
     "cell_type": "heading",
     "level": 1,
     "metadata": {},
     "source": [
      "N\u00fameros enteros"
     ]
    },
    {
     "cell_type": "markdown",
     "metadata": {},
     "source": [
      "Los humanos solemos utilizar base 10 para representar los n\u00fameros."
     ]
    },
    {
     "cell_type": "markdown",
     "metadata": {},
     "source": [
      "[1] Pensemos en el entero $n = 314159$. Sus d\u00edgitos son $a_5 = 3$, $a_4 = 1$, ..., $a_0 = 9$. \n",
      "Escribe $n$ en t\u00e9rminos de potencias de $10$.  Podemos escribir $314159_{10}$ para enfatizar la base."
     ]
    },
    {
     "cell_type": "code",
     "collapsed": false,
     "input": [
      "n=3*10^5+10^4+4*10^3+10^2+5*10+9"
     ],
     "language": "python",
     "metadata": {},
     "outputs": [
      {
       "metadata": {},
       "output_type": "pyout",
       "prompt_number": 1,
       "text": [
        "314159"
       ]
      }
     ],
     "prompt_number": 1
    },
    {
     "cell_type": "markdown",
     "metadata": {},
     "source": [
      "[2] La computadora trabaja en t\u00e9rminos de *d\u00edgitos binarios*, o bits, que pueden tomar s\u00f3lo el valor 0 o 1, y por lo tanto representa los n\u00fameros en base 2. Cu\u00e1l es la representaci\u00f3n en base 2 (*binario*) del n\u00famero $n = 50_{10}$?"
     ]
    },
    {
     "cell_type": "code",
     "collapsed": false,
     "input": [
      "typeof(bits(50))"
     ],
     "language": "python",
     "metadata": {},
     "outputs": [
      {
       "metadata": {},
       "output_type": "pyout",
       "prompt_number": 22,
       "text": [
        "ASCIIString (constructor with 2 methods)"
       ]
      }
     ],
     "prompt_number": 22
    },
    {
     "cell_type": "markdown",
     "metadata": {},
     "source": [
      "[3] (i) Escribe una funci\u00f3n que acepta una cadena en binario y regresa el entero correspondiente.\n",
      "\n",
      "(ii) Escribe una funci\u00f3n que acepta un entero y regresa su representaci\u00f3n en binario como una cadena. Comprueba tu respuesta usando la funci\u00f3n `bits` de Julia."
     ]
    },
    {
     "cell_type": "code",
     "collapsed": false,
     "input": [],
     "language": "python",
     "metadata": {},
     "outputs": [
      {
       "metadata": {},
       "output_type": "pyout",
       "prompt_number": 106,
       "text": [
        "\"0000000000000000000000000000000000000000000000000000000000000101\""
       ]
      }
     ],
     "prompt_number": 106
    },
    {
     "cell_type": "code",
     "collapsed": false,
     "input": [],
     "language": "python",
     "metadata": {},
     "outputs": [
      {
       "metadata": {},
       "output_type": "pyout",
       "prompt_number": 105,
       "text": [
        "\"0000000000000000000000000000000000000000000000000000000000000101\""
       ]
      }
     ],
     "prompt_number": 105
    },
    {
     "cell_type": "code",
     "collapsed": false,
     "input": [
      "s = \"0111001\"\n",
      "\n",
      "function from_binary(x)\n",
      "    \n",
      "    n=length(x)\n",
      "    num=0\n",
      "    \n",
      "    for(i = 0:n-1)\n",
      "        \n",
      "        if(x[n-i]=='1')\n",
      "            num = num + (2^i)\n",
      "        end\n",
      "    end\n",
      "    println(\"El valor en base 10 es $num\")\n",
      "end\n",
      "    \n",
      "from_binary(\"11111111\") \n"
     ],
     "language": "python",
     "metadata": {},
     "outputs": [
      {
       "output_type": "stream",
       "stream": "stdout",
       "text": [
        "El valor en base 10 es 255\n"
       ]
      }
     ],
     "prompt_number": 200
    },
    {
     "cell_type": "code",
     "collapsed": false,
     "input": [
      "bits(8)"
     ],
     "language": "python",
     "metadata": {},
     "outputs": [
      {
       "metadata": {},
       "output_type": "pyout",
       "prompt_number": 197,
       "text": [
        "\"0000000000000000000000000000000000000000000000000000000000001000\""
       ]
      }
     ],
     "prompt_number": 197
    },
    {
     "cell_type": "code",
     "collapsed": false,
     "input": [
      "mod(2,2)"
     ],
     "language": "python",
     "metadata": {},
     "outputs": [
      {
       "metadata": {},
       "output_type": "pyout",
       "prompt_number": 192,
       "text": [
        "0"
       ]
      }
     ],
     "prompt_number": 192
    },
    {
     "cell_type": "code",
     "collapsed": false,
     "input": [
      "function to_binary(x)\n",
      "    \n",
      "    i=1\n",
      "    a=\"\"\n",
      "    while(x>0)\n",
      "        \n",
      "        s=string(mod(x,2))\n",
      "        x=int(x/2-rem(x,2))\n",
      "        \n",
      "        if(i==63)\n",
      "            break\n",
      "        end\n",
      "        a=a*s\n",
      "        i+=1\n",
      "        \n",
      "        \n",
      "    end\n",
      "    reverse(a)\n",
      "end\n",
      "\n",
      "to_binary(8)\n"
     ],
     "language": "python",
     "metadata": {},
     "outputs": [
      {
       "metadata": {},
       "output_type": "pyout",
       "prompt_number": 198,
       "text": [
        "\"1000\""
       ]
      }
     ],
     "prompt_number": 198
    },
    {
     "cell_type": "code",
     "collapsed": false,
     "input": [
      "bits(12)"
     ],
     "language": "python",
     "metadata": {},
     "outputs": [
      {
       "metadata": {},
       "output_type": "pyout",
       "prompt_number": 319,
       "text": [
        "\"0000000000000000000000000000000000000000000000000000000000001100\""
       ]
      }
     ],
     "prompt_number": 319
    },
    {
     "cell_type": "heading",
     "level": 1,
     "metadata": {},
     "source": [
      "N\u00fameros reales"
     ]
    },
    {
     "cell_type": "markdown",
     "metadata": {},
     "source": [
      "De igual manera, nosotros solemos representar los n\u00fameros reales con expresiones en base 10 utilizando un *punto decimal* para separar la parte entera y la parte fraccionaria. "
     ]
    },
    {
     "cell_type": "markdown",
     "metadata": {},
     "source": [
      "[4] Escribe el n\u00famero $p = 31.4159$ en t\u00e9rminos de potencias de $10$. \u00bfC\u00f3mo podemos llamar a los d\u00edgitos para que la expresi\u00f3n quede bonita?"
     ]
    },
    {
     "cell_type": "code",
     "collapsed": false,
     "input": [
      "bits(1.25)"
     ],
     "language": "python",
     "metadata": {},
     "outputs": [
      {
       "metadata": {},
       "output_type": "pyout",
       "prompt_number": 231,
       "text": [
        "\"0011111111110100000000000000000000000000000000000000000000000000\""
       ]
      }
     ],
     "prompt_number": 231
    },
    {
     "cell_type": "code",
     "collapsed": false,
     "input": [
      "log(2,.34)"
     ],
     "language": "python",
     "metadata": {},
     "outputs": [
      {
       "metadata": {},
       "output_type": "pyout",
       "prompt_number": 6,
       "text": [
        "-1.556393348524385"
       ]
      }
     ],
     "prompt_number": 6
    },
    {
     "cell_type": "code",
     "collapsed": false,
     "input": [
      "function from_binary2(x)\n",
      "    \n",
      "    n=length(x)\n",
      "    j=0\n",
      "    num=0.0\n",
      "    \n",
      "    for(i = 1:n)\n",
      "    \n",
      "        if(x[i]=='.')\n",
      "            j=i\n",
      "        end\n",
      "    end\n",
      "    \n",
      "    \n",
      "    \n",
      "    for(i = 1:j-1)\n",
      "        \n",
      "        if(x[i]=='1')\n",
      "            num = num + (2^(j-i-1))\n",
      "        end\n",
      " \n",
      "    end\n",
      "    \n",
      "    \n",
      "    for(i = j+1:n)\n",
      "        \n",
      "        if(x[i]=='1')\n",
      "            \n",
      "            num = num + (2.0^(j-i))\n",
      "        end\n",
      "        \n",
      "    end\n",
      "    print(num)\n",
      "end\n",
      "\n",
      "from_binary2(\"1100.100010\")"
     ],
     "language": "python",
     "metadata": {},
     "outputs": [
      {
       "output_type": "stream",
       "stream": "stdout",
       "text": [
        "12."
       ]
      },
      {
       "output_type": "stream",
       "stream": "stdout",
       "text": [
        "53125"
       ]
      }
     ],
     "prompt_number": 1
    },
    {
     "cell_type": "code",
     "collapsed": false,
     "input": [
      "function to_binary2(x)\n",
      "    \n",
      "    str=string(x)\n",
      "    n=length(str)\n",
      "    j=0\n",
      "    \n",
      "    for(i = 1:n)\n",
      "    \n",
      "        if(str[i]=='.')\n",
      "            j=i\n",
      "        end\n",
      "    end\n",
      "    \n",
      "    a=\"\"\n",
      "    b=a\n",
      "    \n",
      "    for(i= 1:j-1)\n",
      "        a=a*string(str[i])\n",
      "    end\n",
      "    \n",
      "    for(i= j+1:n)\n",
      "        b=b*string(str[i])\n",
      "    end\n",
      "    \n",
      "    b=int(b)\n",
      "    print(b)\n",
      "    \n",
      "\n",
      "    \n",
      "\n",
      "end\n",
      "\n",
      "to_binary2(12.34)\n",
      "\n"
     ],
     "language": "python",
     "metadata": {},
     "outputs": [
      {
       "output_type": "stream",
       "stream": "stdout",
       "text": [
        "34"
       ]
      }
     ],
     "prompt_number": 1
    },
    {
     "cell_type": "markdown",
     "metadata": {},
     "source": [
      "[5] La computadora trabaja en t\u00e9rminos de potencias de 2. \n",
      "\n",
      "(i) \u00bfCu\u00e1l es el valor del n\u00famero $101.0101_{2}$? Aqu\u00ed hemos utilizado un \"punto binario\".\n",
      "\n",
      "(ii) Escribe una funci\u00f3n que toma una cadena en binario que incluya un punto y regresa el n\u00famero correspondiente.\n",
      "\n",
      "(iii) Escribe una funci\u00f3n que toma un n\u00famero real y regresa la cadena en binario correspondiente."
     ]
    },
    {
     "cell_type": "markdown",
     "metadata": {},
     "source": [
      "[6] \u00bfC\u00f3mo se representa $0.1_{10}$ en binario? \u00bfQu\u00e9 notas? \u00bfEs sorprendente?"
     ]
    },
    {
     "cell_type": "heading",
     "level": 1,
     "metadata": {},
     "source": [
      "La representaci\u00f3n \"punto flotante\""
     ]
    },
    {
     "cell_type": "markdown",
     "metadata": {},
     "source": [
      "El conjunto de n\u00fameros reales es no-numerable. El conjunto de los n\u00fameros que se pueden representar en la computadora usando un espacio finito es finito, sea la que sea la representaci\u00f3n que se utilice. \n",
      "La representaci\u00f3n que se ha adoptado se llama \"punto flotante\". En Julia, los n\u00fameros flotantes por defecto se representan con 64 bits. Investiguemos qu\u00e9 representan los distintos bits."
     ]
    },
    {
     "cell_type": "markdown",
     "metadata": {},
     "source": [
      "[6] Utiliza la funci\u00f3n `bits` para investigar c\u00f3mo se representan los siguientes n\u00fameros *flotantes*. [Para comprobar si el n\u00famero es flotante, se utiliza la funci\u00f3n `typeof`.]\n",
      "\n",
      "$1$, $\\frac{1}{2}$, $\\frac{1}{4}$, $2$, $-2$, $0.1$, $0.2$, $0.4$, $3.14159$, $31.4159$,  etc.\n",
      "\n",
      "Ser\u00e1 \u00fatil escribir una funci\u00f3n que compara dos cadenas y te indica en d\u00f3nde difieren. \n",
      "\n",
      "[Una manera interesante de hacerlo es utilizar la funci\u00f3n `html` del paquete `Interact`, que regresa una versi\u00f3n renderizada en HTML de una cadena, o `Base.Markdown` en la versi\u00f3n 0.4 de Julia, que permite escribir `md\"...\"` para renderizar la cadena en Markdown.]\n",
      "\n"
     ]
    }
   ],
   "metadata": {}
  }
 ]
}