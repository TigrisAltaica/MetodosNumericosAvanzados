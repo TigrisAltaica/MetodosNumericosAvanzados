{
 "metadata": {
  "language": "Julia",
  "name": "",
  "signature": "sha256:050660b3e0d20791fa637892bce757ae08b5321e8119b519cfa693bf6b158bbc"
 },
 "nbformat": 3,
 "nbformat_minor": 0,
 "worksheets": [
  {
   "cells": [
    {
     "cell_type": "heading",
     "level": 1,
     "metadata": {},
     "source": [
      "Tarea 2"
     ]
    },
    {
     "cell_type": "heading",
     "level": 2,
     "metadata": {},
     "source": [
      "Fecha l\u00edmite: Domingo 22 de febrero a las 23:59"
     ]
    },
    {
     "cell_type": "markdown",
     "metadata": {},
     "source": [
      "[1] Termina el notebook 3 (representaci\u00f3n de n\u00fameros).\n",
      "\n",
      "[2] Crea una cuenta en GitHub (si todav\u00eda no tienes una).\n",
      "\n",
      "[3] Crea un repositorio de tareas resueltas en tu cuenta y sube tu tarea.\n",
      "\n",
      "[4] M\u00e1ndanos la liga del repositorio a [Luis](mailto:benet@fis.unam.mx) y a [David](mailto:dpsanders@ciencias.unam.mx)."
     ]
    },
    {
     "cell_type": "code",
     "collapsed": false,
     "input": [],
     "language": "python",
     "metadata": {},
     "outputs": []
    }
   ],
   "metadata": {}
  }
 ]
}