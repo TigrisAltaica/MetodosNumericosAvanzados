{
 "metadata": {
  "language": "Julia",
  "name": "",
  "signature": "sha256:421b5609d66dd6e30cd7b54e95ab12dea7a929703e44678847357dc3f4c87cac"
 },
 "nbformat": 3,
 "nbformat_minor": 0,
 "worksheets": [
  {
   "cells": [
    {
     "cell_type": "markdown",
     "metadata": {},
     "source": [
      "# 1. Trabajo colaborativo"
     ]
    },
    {
     "cell_type": "markdown",
     "metadata": {},
     "source": [
      "El flujo de trabajo que hasta ahora hemos visto es:\n",
      "\n",
      "```\n",
      "    > git init                  # inicializa un repositorio\n",
      "    > git add <archivo>         # da a conocer a git un archivo nuevo o un cambio en un archivo\n",
      "    > git status                # resume los cambios actuales\n",
      "    > git commit -m \"mensaje\"   # saca una foto instant\u00e1nea del estado actual del proyecto\n",
      "    > git push                  # sube los cambios a un repositorio central (local o remoto)\n",
      "    > git log                   # muestra la bit\u00e1cora del proyecto\n",
      "```\n",
      "\n",
      "(Por ahora \">\" indicar\u00e1 la l\u00ednea de comandos.)"
     ]
    },
    {
     "cell_type": "markdown",
     "metadata": {},
     "source": [
      "Ahora veremos un modelo posible de *colaboraci\u00f3n*, que iremos complicando poco a poco."
     ]
    },
    {
     "cell_type": "markdown",
     "metadata": {},
     "source": [
      "Para empezar, la instrucci\u00f3n que sirve para hacer una *copia local* de un repositorio remoto es:\n",
      "\n",
      "    > git clone https://github.com/Usuario/proyecto.git\n",
      "\n",
      "En la instrucci\u00f3n de arriba, hemos considerado un proyecto remoto que est\u00e1 en GitHub, por ejemplo. Sin embargo, el comando puede usar en otras situaciones, por ejemplo, un proyecto remoto en una m\u00e1quina a la que tenemos acceso con `ssh`, o `git`, o un proyecto en *otro* directorio.\n",
      "\n",
      "Entre otras cosas que quedan configuradas cuando uno hace la clonaci\u00f3n de un proyecto, es *d\u00f3nde* se encuentra el proyecto original (`origin`). Para verificar esto usamos:\n",
      "```\n",
      "    > git remote -v\n",
      "```"
     ]
    },
    {
     "cell_type": "markdown",
     "metadata": {},
     "source": [
      "La situaci\u00f3n que consideraremos es la siguiente: Alicia (*Alice*) y Beto (*Bob*) colaboran en un proyecto (el que acabamos de clonar). Ambos tienen la misma versi\u00f3n del c\u00f3digo. \n",
      "\n",
      "**Alicia:**\n",
      "Alicia edita el archivo `archivo.txt`, y hace alg\u00fan cambio que le parece conveniente. Siguiendo el esquema de trabajo que describimos arriba, Alicia sube los cambios a su repositorio local con `git add` y `git commit`, y finalmente los sube al repositorio central: `git push`.\n",
      "\n",
      "**Beto:**\n",
      "Beto, por su parte y de manera independiente, hace cambios *al mismo archivo* en que trabaj\u00f3 Alicia. De la misma manera que lo hizo Alicia, Beto actualiza su repositorio local (`git add` y `git commit`) y los sube al repositorio que comparten con `git push`.\n",
      "\n",
      "*Sin embargo*, como \u00e9l edit\u00f3 el mismo archivo en el que Alicia hizo cambios, pero usando una versi\u00f3n atrasada que *no* incluye los cambios de Alicia, entonces `git` detecta que hubo cambios divergentes entre la versi\u00f3n local de Beto, en la *rama* `master`, y la del repositorio remoto `origin/master`. Esto hace que `git` no permita subir los cambios que propone Beto, hasta que Beto resuelva los *conflictos* que hayan surgido."
     ]
    },
    {
     "cell_type": "markdown",
     "metadata": {},
     "source": [
      "-----\n",
      "\n",
      "**Ejercicio 1:** Trabajando en grupos de dos al menos, traten de reproducir la situaci\u00f3n descrita arriba. La pregunta concreta es qu\u00e9 significa eso del conflicto que se debe resolver. \n",
      "\n",
      "1. Para llevar esto a cabo, una posibilidad es a partir de lo que hicimos la vez pasada. Sin embargo, hay ciertas sutilezas que tienen que ver con que `git init` por default crea lo que se llama un repositorio *non-bare* (no vac\u00edo), y git no permite subir los cambios a un repositorio no vac\u00edo. Suponiendo que el repositorio que creamos anteriormente est\u00e1 en `~/Documentos/claseLuisDavid`, entonces:\n",
      "\n",
      "    (a) Primero crearemos un proyecto *bare* (vac\u00edo) a partir del anterior:\n",
      "    ```\n",
      "        > git clone --bare -l ~/Documentos/claseLuisDavid repo_vacio\n",
      "    ```\n",
      "    (Si inspeccionan el repositorio `repo_vacio` ver\u00e1n que contiene los archivos que \n",
      "    normalmente se encuentran en el directorio escondido \".git\", y nada m\u00e1s, o sea, no \n",
      "    tiene los archivos propios del proyecto.)\n",
      "\n",
      "    (b) A partir de este repositorio vac\u00edo, clonaremos a dos directorios independientes \n",
      "    (`Alicia/` y `Beto/`):\n",
      "    ```\n",
      "        > git clone repo_vacio Alicia\n",
      "        > git clone repo_vacio Beto\n",
      "    ```\n",
      "\n",
      "    (c) Desde el directorio `Alicia/` hagan un cambio importante y s\u00fabanlo al repo \n",
      "    (`git push`); traten ahora de hacer lo mismo desde `Beto/`\n",
      "\n",
      "2. La segunda opci\u00f3n es clonar *dos* veces el repo que subieron a GitHub, a dos m\u00e1quinas distintas o a dos directorios distintos. En este caso hay que adecuar la instrucci\u00f3n (b), usando la direcci\u00f3n del repo en GitHub. Otra sutileza es que el proyecto que clonan les debe *permitir* subir los cambios a *ambos* usuarios (en el caso de que hayan clonado a cuentas distintas o a m\u00e1quinas distintas). Esto se puede configurar en los `Settings` del repo en GitHub; para que esto funcione *ambos* usuarios deben estar dados de alta en GitHub.\n",
      "\n",
      "(A la larga, la segunda opci\u00f3n es m\u00e1s \u00fatil que la primera.)\n",
      "\n",
      "-----\n"
     ]
    },
    {
     "cell_type": "markdown",
     "metadata": {},
     "source": [
      "Para entender el problema, ejecutaremos la instrucci\u00f3n\n",
      "    > git log --oneline\n",
      "lo que muestra el \u00faltimo cambio que hizo Beto. Por otro lado, para ver c\u00f3mo est\u00e1 el repositorio remoto hacemos:\n",
      "    > git log --oneline origin/master\n",
      "La segunda instrucci\u00f3n **no** muestra los cambios de Alicia. Esto muestra que el repositorio de Beto no est\u00e1 actualizado respecto al repositorio central."
     ]
    },
    {
     "cell_type": "markdown",
     "metadata": {},
     "source": [
      "La manera en que Beto debe resolver el conflicto es, pues, actualizando su versi\u00f3n local respecto al repositorio remoto. Esto se hace usando:\n",
      "    > git fetch origin\n",
      "y para ver el estado del repositorio\n",
      "    > git log --oneline origin/master\n",
      "\n",
      "Entonces, para resolver el problema, Beto ha de implementar los cambios del repositorio remoto en su repositorio primero, ya que el de referencia es siempre el remoto (rama `master`):\n",
      "    > git merge origin/master\n",
      "lo que hace manifiesto, nuevamente, el conflicto."
     ]
    },
    {
     "cell_type": "markdown",
     "metadata": {},
     "source": [
      "-----\n",
      "\n",
      "**Ejercicio 2:** Edita el archivo con conflictos, y *resu\u00e9lvelos*. Despu\u00e9s haz `git add` y `git commit`. \u00bfPuedes subir (*push*) los cambios al repositorio central?\n",
      "\n",
      "-----"
     ]
    },
    {
     "cell_type": "markdown",
     "metadata": {},
     "source": [
      "La **moraleja** de esto es: antes de hacer cualquier cambio, hay que mantenerse actualizado respecto al repositorio central. Esto se hace con la combinaci\u00f3n `git fetch` y `git merge` cuando sea necesario, en particular, antes de subir alg\u00fan cambio. \n",
      "\n",
      "Una manera \"corta\" y combinada de hacer los dos pasos arriba descritos (`git fetch` y `git merge`) es con el comando:\n",
      "    > git pull"
     ]
    },
    {
     "cell_type": "markdown",
     "metadata": {},
     "source": [
      "---\n",
      "**Ejercicio 3:** Actualicen el directorio `Alicia/` respecto a los \u00faltimos cambios hechos por Beto.\n",
      "\n",
      "---"
     ]
    },
    {
     "cell_type": "markdown",
     "metadata": {},
     "source": [
      "# 2. Trabajando en ramas"
     ]
    },
    {
     "cell_type": "markdown",
     "metadata": {},
     "source": [
      "El concepto de una *rama* (\"branch\") en git provee una forma sencilla y eficiente de trabajar en nuevas ideas, o de colaborar en un proyecto com\u00fan, evitando romper cosas que a priori ya funcionan.\n",
      "\n",
      "Para empezar, listemos las ramas existentes de un proyecto (por ejemplo, en el directorio `Alicia/`):\n",
      "```\n",
      "    > git branch\n",
      "```\n",
      "o usando\n",
      "```\n",
      "    > git branch -v\n",
      "```\n",
      "que brinda adem\u00e1s el hash del \u00faltimo commit. Lo que esto indica es que existe \u00fanicamente la rama `master`, que es la rama que se crea por default (y en alg\u00fan sentido es la principal), y el asterisco indica que estamos trabajando en esa rama."
     ]
    },
    {
     "cell_type": "markdown",
     "metadata": {},
     "source": [
      "Para crear una nueva rama, ejecutamos:\n",
      "```\n",
      "    > git branch <nombre_rama>\n",
      "```\n",
      "donde `<nombre_rama>` es el nombre de la rama, que es m\u00e1s o menos arbitrario y flexible. Un \n",
      "ejemplo es: `git branch alicia`, que es el que usar\u00e9 en este ejemplo; otra posibilidad podr\u00eda ser `git branch alicia/nuevaidea`.\n",
      "\n",
      "Despu\u00e9s de ejecutar alguna de estas instrucciones, `git branch -v` nos informa que *ambas* ramas, `master` y `alicia` existen, ambas est\u00e1n en el (mismo) \u00faltimo commit, y el asterisco indica que estamos en la rama `master` a\u00fan.\n",
      "\n",
      "Para cambiarnos de rama, ejecutamos:\n",
      "```\n",
      "    > git checkout <nombre_rama>\n",
      "```\n",
      "Nuevamente, existe un atajo para crear y cambiarnos de rama de un golpe: `git checkout -b <nombre_rama>`.\n"
     ]
    },
    {
     "cell_type": "markdown",
     "metadata": {},
     "source": [
      "---\n",
      "**Ejercicio 4:** (a) Creen una rama, c\u00e1mbiense a la nueva rama, y verifiquen que est\u00e1n en la \n",
      "nueva rama. (b) Pregunta: la instrucci\u00f3n `git status`, \u00bfda alguna informaci\u00f3n sobre en qu\u00e9 rama est\u00e1n?\n",
      "\n",
      "**Ejercicio 5:** Hagan algunos cambios en el repositorio, tanto en los archivos que ya existen y creando un nuevo archivo y, una vez terminados, guarden este punto en la historia del desarrollo. \u00bfC\u00f3mo pueden verificar que el branch `alicia` donde hicieron los cambios tiene al menos un commit m\u00e1s que el branch `master`?\n",
      "\n",
      "** Ejercicio 6:** (a) C\u00e1mbiense de rama a `master`. \u00bfQu\u00e9 pas\u00f3 con los cambios? (b) Vuelvan a cambiarse al branch `alicia`, y respondan la misma pregunta que antes.\n",
      "\n",
      "---"
     ]
    },
    {
     "cell_type": "markdown",
     "metadata": {},
     "source": [
      "El punto importante hasta el momento es que la historia de los dos branches (locales) ha divergido, y *ambas* historias est\u00e1n en ambas ramas.\n",
      "\n",
      "Supongamos ahora que ya est\u00e1n satisfechos con los cambios que han hecho, despu\u00e9s de muchas pruebas exhaustivas y otras fallidas (tal vez en otras ramas). Ahora queremos poner estos cambios en la rama `master`. Para esto, primero nos cambiamos a `master`, que es la rama a donde queremos pasar los cambios, y despu\u00e9s hacemos un `merge`, o sea, fundimos las dos historias:\n",
      "```\n",
      "    > git checkout master   \n",
      "    > git merge <nombre_rama>\n",
      "```"
     ]
    },
    {
     "cell_type": "markdown",
     "metadata": {},
     "source": [
      "---\n",
      "\n",
      "**Ejercicio 7:** Pasen los cambios de `alicia` a `master`.\n",
      "\n",
      "**Ejercicio 8:** Ya que los cambios que hicimos en `alicia` est\u00e1n en `master`, borren la rama `alicia`. Para esto, la instrucci\u00f3n `git branch -d alicia` es particularmente \u00fatil.\n",
      "\n",
      "**Ejercicio 9:** Usen [LearnGitBranching](http://pcottle.github.io/learnGitBranching/) para jugar con esto y ver gr\u00e1ficamente qu\u00e9 significan las ramas y la divergencia de las historias. En esta misma liga hay otros tutoriales que pueden ser interesantes.\n",
      "\n",
      "---"
     ]
    },
    {
     "cell_type": "markdown",
     "metadata": {},
     "source": [
      "# 3. Resumen: Flujo colaborativo con git y GitHub"
     ]
    },
    {
     "cell_type": "markdown",
     "metadata": {},
     "source": [
      "## 3.1 Iniciar un proyecto\n",
      "\n",
      "- Crear un repositorio local de git en tu m\u00e1quina\n",
      "- Crear un repositorio en GitHub\n",
      "- Empujar/subir los cambios de tu repositorio local a tu repositorio en GitHub\n",
      "\n",
      "**Nota:** Vale la pena incluir un archivo `LICENSE.md`, donde definen la manera en que uno puede usar el contenido de su proyecto. Para c\u00f3digo, se recomienda la licencia MIT.\n",
      "\n",
      "## 3.2 Contribuir a otro proyecto en GitHub\n",
      "\n",
      "- Desde la p\u00e1gina (en GitHub) de alg\u00fan proyecto al que quieras contribuir, aprieta el bot\u00f3n \"Fork\". Esto crear\u00e1 una copia del repositorio ajeno en tu cuenta de GitHub.\n",
      "- Clona este repositorio (el que est\u00e1 en tu cuenta de GitHub) a tu m\u00e1quina.\n",
      "- Si haces cambios al proyecto (en tu repositorio local, **desde** una rama distinta a `master`, y quieres que \u00e9stos se eval\u00faen para usarse en el proyecto colaborativo central, debes primero actualizar tu fork (en GitHub) con tus cambios. Para esto, subir\u00e1s tus cambios a tu repositorio en GitHub usando `git push origin <mi_rama>`, donde `<mi_rama>` es la rama donde hiciste los cambios que quieres subir.\n",
      "- Ahora puedes hacer una petici\u00f3n para subir tus cambios (*pull request*) al proyecto central, directamente desde la p\u00e1gina de GitHub de tu versi\u00f3n del repositorio, o usando el comando `hub pull-request` en la l\u00ednea de comandos si tienes instalado `hub` (una versi\u00f3n extendida de `git` que funciona espec\u00edficamente con GitHub)."
     ]
    },
    {
     "cell_type": "markdown",
     "metadata": {},
     "source": [
      "---\n",
      "\n",
      "**Ejercicio 10:** Ensaya lo anterior con el repositorio creado por otro compa\u00f1ero en GitHub. Ciertamente todo esto por ahora es de prueba, pero ser\u00e1 vital de ahora en adelante **:-)**\n",
      "\n",
      "---"
     ]
    },
    {
     "cell_type": "heading",
     "level": 1,
     "metadata": {},
     "source": [
      "4. Facilitar el flujo de trabajo con GitHub"
     ]
    },
    {
     "cell_type": "markdown",
     "metadata": {},
     "source": [
      "Para evitar que GitHub te est\u00e9 pidiendo tu usuario y contrase\u00f1a todo el tiempo, es necesario usar *claves de SSH* (SSH keys). En Linux y Mac, el procedimiento es como sigue. NB: **No** hacer esto desde una m\u00e1quina/cuenta p\u00fablica."
     ]
    },
    {
     "cell_type": "markdown",
     "metadata": {},
     "source": [
      "Utiliza el comando `ssh-keygen` para generar claves nuevas. Te pedir\u00e1 que pongas una clave (\"passphrase\"); esta clave tendr\u00e1s que ponerla s\u00f3lo una vez por sesi\u00f3n."
     ]
    },
    {
     "cell_type": "code",
     "collapsed": false,
     "input": [
      ";ssh-keygen"
     ],
     "language": "python",
     "metadata": {},
     "outputs": []
    },
    {
     "cell_type": "markdown",
     "metadata": {},
     "source": [
      "Esto generar\u00e1 claves en el directorio escondido `~/.ssh` en tu directorio hogar:"
     ]
    },
    {
     "cell_type": "code",
     "collapsed": false,
     "input": [
      ";ls ~/.ssh"
     ],
     "language": "python",
     "metadata": {},
     "outputs": [
      {
       "output_type": "stream",
       "stream": "stdout",
       "text": [
        "github_rsa\n",
        "github_rsa.pub\n",
        "id_rsa\n",
        "id_rsa.pub\n",
        "known_hosts\n"
       ]
      }
     ],
     "prompt_number": 1
    },
    {
     "cell_type": "markdown",
     "metadata": {},
     "source": [
      "Ahora, copia la clave p\u00fablica; esto se puede hacer a mano (copiando el *contenido*  del archivo `id_rsa.pub`), o usando un programa. E.g. en Mac, puedes usar `pbcopy` para copiar el contenido de un archivo al clipboard:"
     ]
    },
    {
     "cell_type": "code",
     "collapsed": false,
     "input": [
      ";pbcopy < ~/.ssh/id_rsa.pub"
     ],
     "language": "python",
     "metadata": {},
     "outputs": [],
     "prompt_number": 2
    },
    {
     "cell_type": "markdown",
     "metadata": {},
     "source": [
      "Ahora, hay que dar de alta las claves en GitHub:\n",
      "\n",
      "- Ve a la p\u00e1gina de tu cuenta en GitHub\n",
      "- Escoge `Settings` (arriba, del lado derecho)\n",
      "- Escoge `SSH keys`\n",
      "- Escoge `Add SSH key`\n",
      "- Pega lo que copiaste\n",
      "\n",
      "Ya deber\u00edas poder hacer transacciones con GitHub sin que te pida tu usuario cada vez.\n"
     ]
    },
    {
     "cell_type": "markdown",
     "metadata": {},
     "source": [
      "Una vez m\u00e1s, **no** hagas esto en un m\u00e1quina o cuenta p\u00fablica."
     ]
    },
    {
     "cell_type": "heading",
     "level": 1,
     "metadata": {},
     "source": [
      "5. Trabajar con un fork"
     ]
    },
    {
     "cell_type": "markdown",
     "metadata": {},
     "source": [
      "Normalmente hacemos un **fork** de un repositorio de inter\u00e9s en GitHub, es decir, una copia del repositorio en tu propia cuenta de GitHub.\n",
      "\n",
      "Al hacer `git clone ...` de tu fork, `git` provee un remote (es decir, un nombre para un repositorio remoto) llamado `origin`, que apunta a tu fork. Esto lo podemos ver con"
     ]
    },
    {
     "cell_type": "code",
     "collapsed": false,
     "input": [
      "; git remote -v"
     ],
     "language": "python",
     "metadata": {},
     "outputs": [
      {
       "output_type": "stream",
       "stream": "stdout",
       "text": [
        "origin\thttps://github.com/dpsanders/MetodosNumericosAvanzados.git (fetch)\n",
        "origin\thttps://github.com/dpsanders/MetodosNumericosAvanzados.git (push)\n"
       ]
      }
     ],
     "prompt_number": 5
    },
    {
     "cell_type": "markdown",
     "metadata": {},
     "source": [
      "Vemos que `origin` apunta al fork del repositorio `MetodosNumericosAvanzados` en mi cuenta de GitHub (con usuario `dpsanders`).\n",
      "\n",
      "Sin embargo, para mantener actualizado nuestro fork con respecto al repositorio original, debemos darle a conocer a `git` que tambi\u00e9n existe dicho repositorio. Si hacemos"
     ]
    },
    {
     "cell_type": "code",
     "collapsed": false,
     "input": [
      ";git help remote"
     ],
     "language": "python",
     "metadata": {},
     "outputs": [
      {
       "output_type": "stream",
       "stream": "stdout",
       "text": [
        "GIT-REMOTE(1)                     Git Manual                     GIT-REMOTE(1)\n",
        "\n",
        "\n",
        "\n",
        "N\bNA\bAM\bME\bE\n",
        "       git-remote - Manage set of tracked repositories\n",
        "\n",
        "S\bSY\bYN\bNO\bOP\bPS\bSI\bIS\bS\n",
        "       _\bg_\bi_\bt _\br_\be_\bm_\bo_\bt_\be [-v | --verbose]\n",
        "       _\bg_\bi_\bt _\br_\be_\bm_\bo_\bt_\be _\ba_\bd_\bd [-t <branch>] [-m <master>] [-f] [--[no-]tags] [--mirror=<fetch|push>] <name> <url>\n",
        "       _\bg_\bi_\bt _\br_\be_\bm_\bo_\bt_\be _\br_\be_\bn_\ba_\bm_\be <old> <new>\n",
        "       _\bg_\bi_\bt _\br_\be_\bm_\bo_\bt_\be _\br_\be_\bm_\bo_\bv_\be <name>\n",
        "       _\bg_\bi_\bt _\br_\be_\bm_\bo_\bt_\be _\bs_\be_\bt_\b-_\bh_\be_\ba_\bd <name> (-a | --auto | -d | --delete | <branch>)\n",
        "       _\bg_\bi_\bt _\br_\be_\bm_\bo_\bt_\be _\bs_\be_\bt_\b-_\bb_\br_\ba_\bn_\bc_\bh_\be_\bs [--add] <name> <branch>...\n",
        "       _\bg_\bi_\bt _\br_\be_\bm_\bo_\bt_\be _\bs_\be_\bt_\b-_\bu_\br_\bl [--push] <name> <newurl> [<oldurl>]\n",
        "       _\bg_\bi_\bt _\br_\be_\bm_\bo_\bt_\be _\bs_\be_\bt_\b-_\bu_\br_\bl _\b-_\b-_\ba_\bd_\bd [--push] <name> <newurl>\n",
        "       _\bg_\bi_\bt _\br_\be_\bm_\bo_\bt_\be _\bs_\be_\bt_\b-_\bu_\br_\bl _\b-_\b-_\bd_\be_\bl_\be_\bt_\be [--push] <name> <url>\n",
        "       _\bg_\bi_\bt _\br_\be_\bm_\bo_\bt_\be [-v | --verbose] _\bs_\bh_\bo_\bw [-n] <name>...\n",
        "       _\bg_\bi_\bt _\br_\be_\bm_\bo_\bt_\be _\bp_\br_\bu_\bn_\be [-n | --dry-run] <name>...\n",
        "       _\bg_\bi_\bt _\br_\be_\bm_\bo_\bt_\be [-v | --verbose] _\bu_\bp_\bd_\ba_\bt_\be [-p | --prune] [(<group> | <remote>)...]\n",
        "\n",
        "\n",
        "D\bDE\bES\bSC\bCR\bRI\bIP\bPT\bTI\bIO\bON\bN\n",
        "       Manage the set of repositories (\"remotes\") whose branches you track.\n",
        "\n",
        "O\bOP\bPT\bTI\bIO\bON\bNS\bS\n",
        "       -v, --verbose\n",
        "           Be a little more verbose and show remote url after name. NOTE: This\n",
        "           must be placed between remote and subcommand.\n",
        "\n",
        "C\bCO\bOM\bMM\bMA\bAN\bND\bDS\bS\n",
        "       With no arguments, shows a list of existing remotes. Several\n",
        "       subcommands are available to perform operations on the remotes.\n",
        "\n",
        "       _\ba_\bd_\bd\n",
        "           Adds a remote named <name> for the repository at <url>. The command\n",
        "           git fetch <name> can then be used to create and update\n",
        "           remote-tracking branches <name>/<branch>.\n",
        "\n",
        "           With -f option, git fetch <name> is run immediately after the\n",
        "           remote information is set up.\n",
        "\n",
        "           With --tags option, git fetch <name> imports every tag from the\n",
        "           remote repository.\n",
        "\n",
        "           With --no-tags option, git fetch <name> does not import tags from\n",
        "           the remote repository.\n",
        "\n",
        "           With -t <branch> option, instead of the default glob refspec for\n",
        "           the remote to track all branches under the refs/remotes/<name>/\n",
        "           namespace, a refspec to track only <branch> is created. You can\n",
        "           give more than one -t <branch> to track multiple branches without\n",
        "           grabbing all branches.\n",
        "\n",
        "           With -m <master> option, a symbolic-ref refs/remotes/<name>/HEAD is\n",
        "           set up to point at remote's <master> branch. See also the set-head\n",
        "           command.\n",
        "\n",
        "           When a fetch mirror is created with --mirror=fetch, the refs will\n",
        "           not be stored in the _\br_\be_\bf_\bs_\b/_\br_\be_\bm_\bo_\bt_\be_\bs_\b/ namespace, but rather everything\n",
        "           in _\br_\be_\bf_\bs_\b/ on the remote will be directly mirrored into _\br_\be_\bf_\bs_\b/ in the\n",
        "           local repository. This option only makes sense in bare\n",
        "           repositories, because a fetch would overwrite any local commits.\n",
        "\n",
        "           When a push mirror is created with --mirror=push, then git push\n",
        "           will always behave as if --mirror was passed.\n",
        "\n",
        "       _\br_\be_\bn_\ba_\bm_\be\n",
        "           Rename the remote named <old> to <new>. All remote-tracking\n",
        "           branches and configuration settings for the remote are updated.\n",
        "\n",
        "           In case <old> and <new> are the same, and <old> is a file under\n",
        "           $GIT_DIR/remotes or $GIT_DIR/branches, the remote is converted to\n",
        "           the configuration file format.\n",
        "\n",
        "       _\br_\be_\bm_\bo_\bv_\be, _\br_\bm\n",
        "           Remove the remote named <name>. All remote-tracking branches and\n",
        "           configuration settings for the remote are removed.\n",
        "\n",
        "       _\bs_\be_\bt_\b-_\bh_\be_\ba_\bd\n",
        "           Sets or deletes the default branch (i.e. the target of the\n",
        "           symbolic-ref refs/remotes/<name>/HEAD) for the named remote. Having\n",
        "           a default branch for a remote is not required, but allows the name\n",
        "           of the remote to be specified in lieu of a specific branch. For\n",
        "           example, if the default branch for origin is set to master, then\n",
        "           origin may be specified wherever you would normally specify\n",
        "           origin/master.\n",
        "\n",
        "           With -d or --delete, the symbolic ref refs/remotes/<name>/HEAD is\n",
        "           deleted.\n",
        "\n",
        "           With -a or --auto, the remote is queried to determine its HEAD,\n",
        "           then the symbolic-ref refs/remotes/<name>/HEAD is set to the same\n",
        "           branch. e.g., if the remote HEAD is pointed at next, \"git remote\n",
        "           set-head origin -a\" will set the symbolic-ref\n",
        "           refs/remotes/origin/HEAD to refs/remotes/origin/next. This will\n",
        "           only work if refs/remotes/origin/next already exists; if not it\n",
        "           must be fetched first.\n",
        "\n",
        "           Use <branch> to set the symbolic-ref refs/remotes/<name>/HEAD\n",
        "           explicitly. e.g., \"git remote set-head origin master\" will set the\n",
        "           symbolic-ref refs/remotes/origin/HEAD to\n",
        "           refs/remotes/origin/master. This will only work if\n",
        "           refs/remotes/origin/master already exists; if not it must be\n",
        "           fetched first.\n",
        "\n",
        "       _\bs_\be_\bt_\b-_\bb_\br_\ba_\bn_\bc_\bh_\be_\bs\n",
        "           Changes the list of branches tracked by the named remote. This can\n",
        "           be used to track a subset of the available remote branches after\n",
        "           the initial setup for a remote.\n",
        "\n",
        "           The named branches will be interpreted as if specified with the -t\n",
        "           option on the _\bg_\bi_\bt _\br_\be_\bm_\bo_\bt_\be _\ba_\bd_\bd command line.\n",
        "\n",
        "           With --add, instead of replacing the list of currently tracked\n",
        "           branches, adds to that list.\n",
        "\n",
        "       _\bs_\be_\bt_\b-_\bu_\br_\bl\n",
        "           Changes URL remote points to. Sets first URL remote points to\n",
        "           matching regex <oldurl> (first URL if no <oldurl> is given) to\n",
        "           <newurl>. If <oldurl> doesn't match any URL, error occurs and\n",
        "           nothing is changed.\n",
        "\n",
        "           With _\b-_\b-_\bp_\bu_\bs_\bh, push URLs are manipulated instead of fetch URLs.\n",
        "\n",
        "           With _\b-_\b-_\ba_\bd_\bd, instead of changing some URL, new URL is added.\n",
        "\n",
        "           With _\b-_\b-_\bd_\be_\bl_\be_\bt_\be, instead of changing some URL, all URLs matching\n",
        "           regex <url> are deleted. Trying to delete all non-push URLs is an\n",
        "           error.\n",
        "\n",
        "       _\bs_\bh_\bo_\bw\n",
        "           Gives some information about the remote <name>.\n",
        "\n",
        "           With -n option, the remote heads are not queried first with git\n",
        "           ls-remote <name>; cached information is used instead.\n",
        "\n",
        "       _\bp_\br_\bu_\bn_\be\n",
        "           Deletes all stale remote-tracking branches under <name>. These\n",
        "           stale branches have already been removed from the remote repository\n",
        "           referenced by <name>, but are still locally available in\n",
        "           \"remotes/<name>\".\n",
        "\n",
        "           With --dry-run option, report what branches will be pruned, but do\n",
        "           not actually prune them.\n",
        "\n",
        "       _\bu_\bp_\bd_\ba_\bt_\be\n",
        "           Fetch updates for a named set of remotes in the repository as\n",
        "           defined by remotes.<group>. If a named group is not specified on\n",
        "           the command line, the configuration parameter remotes.default will\n",
        "           be used; if remotes.default is not defined, all remotes which do\n",
        "           not have the configuration parameter\n",
        "           remote.<name>.skipDefaultUpdate set to true will be updated. (See\n",
        "           g\bgi\bit\bt-\b-c\bco\bon\bnf\bfi\big\bg(1)).\n",
        "\n",
        "           With --prune option, prune all the remotes that are updated.\n",
        "\n",
        "D\bDI\bIS\bSC\bCU\bUS\bSS\bSI\bIO\bON\bN\n",
        "       The remote configuration is achieved using the remote.origin.url and\n",
        "       remote.origin.fetch configuration variables. (See g\bgi\bit\bt-\b-c\bco\bon\bnf\bfi\big\bg(1)).\n",
        "\n",
        "E\bEX\bXA\bAM\bMP\bPL\bLE\bES\bS\n",
        "       +\bo   Add a new remote, fetch, and check out a branch from it\n",
        "\n",
        "               $ git remote\n",
        "               origin\n",
        "               $ git branch -r\n",
        "                 origin/HEAD -> origin/master\n",
        "                 origin/master\n",
        "               $ git remote add staging git://git.kernel.org/.../gregkh/staging.git\n",
        "               $ git remote\n",
        "               origin\n",
        "               staging\n",
        "               $ git fetch staging\n",
        "               ...\n",
        "               From git://git.kernel.org/pub/scm/linux/kernel/git/gregkh/staging\n",
        "                * [new branch]      master     -> staging/master\n",
        "                * [new branch]      staging-linus -> staging/staging-linus\n",
        "                * [new branch]      staging-next -> staging/staging-next\n",
        "               $ git branch -r\n",
        "                 origin/HEAD -> origin/master\n",
        "                 origin/master\n",
        "                 staging/master\n",
        "                 staging/staging-linus\n",
        "                 staging/staging-next\n",
        "               $ git checkout -b staging staging/master\n",
        "               ...\n",
        "\n",
        "\n",
        "       +\bo   Imitate _\bg_\bi_\bt _\bc_\bl_\bo_\bn_\be but track only selected branches\n",
        "\n",
        "               $ mkdir project.git\n",
        "               $ cd project.git\n",
        "               $ git init\n",
        "               $ git remote add -f -t master -m master origin git://example.com/git.git/\n",
        "               $ git merge origin\n",
        "\n",
        "\n",
        "S\bSE\bEE\bE A\bAL\bLS\bSO\bO\n",
        "       g\bgi\bit\bt-\b-f\bfe\bet\btc\bch\bh(1) g\bgi\bit\bt-\b-b\bbr\bra\ban\bnc\bch\bh(1) g\bgi\bit\bt-\b-c\bco\bon\bnf\bfi\big\bg(1)\n",
        "\n",
        "G\bGI\bIT\bT\n",
        "       Part of the g\bgi\bit\bt(1) suite\n",
        "\n",
        "\n",
        "\n",
        "Git                               11/26/2014                     GIT-REMOTE(1)\n"
       ]
      }
     ],
     "prompt_number": 6
    },
    {
     "cell_type": "markdown",
     "metadata": {},
     "source": [
      "vemos que hay un subcomando `add` de remote. As\u00ed que hacemos"
     ]
    },
    {
     "cell_type": "code",
     "collapsed": false,
     "input": [
      "; git remote add upstream https://github.com/lbenet/MetodosNumericosAvanzados.git"
     ],
     "language": "python",
     "metadata": {},
     "outputs": [],
     "prompt_number": 7
    },
    {
     "cell_type": "markdown",
     "metadata": {},
     "source": [
      "El nombre usual que se le asigna al repositorio original es `upstream`.\n",
      "\n",
      "Ahora podemos actualizar nuestro repositorio *local* con "
     ]
    },
    {
     "cell_type": "code",
     "collapsed": false,
     "input": [
      "; git pull upstream master"
     ],
     "language": "python",
     "metadata": {},
     "outputs": [
      {
       "output_type": "stream",
       "stream": "stderr",
       "text": [
        "From https://github.com/lbenet/MetodosNumericosAvanzados\n",
        " * branch            master     -> FETCH_HEAD\n"
       ]
      },
      {
       "output_type": "stream",
       "stream": "stdout",
       "text": [
        "Already up-to-date.\n"
       ]
      },
      {
       "output_type": "stream",
       "stream": "stderr",
       "text": [
        " * [new branch]      master     -> upstream/master\n"
       ]
      }
     ],
     "prompt_number": 8
    },
    {
     "cell_type": "markdown",
     "metadata": {},
     "source": [
      "(el cual jala la rama `master` del repositorio apuntado por `upstream`).\n",
      "\n",
      "Ahora al hacer"
     ]
    },
    {
     "cell_type": "code",
     "collapsed": false,
     "input": [
      "; git push"
     ],
     "language": "python",
     "metadata": {},
     "outputs": [
      {
       "output_type": "stream",
       "stream": "stderr",
       "text": [
        "To https://github.com/dpsanders/MetodosNumericosAvanzados.git\n"
       ]
      },
      {
       "output_type": "stream",
       "stream": "stderr",
       "text": [
        "   24f59f5..ebcb8b0  master -> master\n"
       ]
      }
     ],
     "prompt_number": 9
    },
    {
     "cell_type": "markdown",
     "metadata": {},
     "source": [
      "empuja los cambios a `origin`, o sea, a nuestro propio fork."
     ]
    }
   ],
   "metadata": {}
  }
 ]
}