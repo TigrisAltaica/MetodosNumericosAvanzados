{
 "metadata": {
  "language": "Julia",
  "name": "",
  "signature": "sha256:52c1017e0d2b97434429b9d80f3c1713eb98ba4402f74e1cd67e735931bae384"
 },
 "nbformat": 3,
 "nbformat_minor": 0,
 "worksheets": [
  {
   "cells": [
    {
     "cell_type": "heading",
     "level": 1,
     "metadata": {},
     "source": [
      "Redondeo"
     ]
    },
    {
     "cell_type": "markdown",
     "metadata": {},
     "source": [
      "$\\newcommand{\\RR}{\\mathbb{R}}$\n",
      "$\\newcommand{\\FF}{\\mathbb{F}}$\n",
      "\n",
      "Tenemos una representaci\u00f3n del conjunto no-numerable $\\RR$ a trav\u00e9s del conjunto finito $\\FF$. \u00bfC\u00f3mo podemos pasar de un n\u00famero real a un n\u00famero flotante, si el n\u00famero real no es exactamente representable (lo cual es el caso para \u00a1*casi todos* los n\u00fameros reales!)? Extenderemos para este fin los n\u00fameros reales y los flotantes con $\\pm \\infty$, y hablaremos de los reales extendidos $\\RR^* := \\RR \\cup \\{-\\infty, +\\infty \\}$  y $\\FF^* := \\FF \\cup \\{-\\infty, +\\infty \\}$.\n",
      "\n",
      "Un mapeo $\\bigcirc: \\RR^* \\to \\FF^*$ es una *operaci\u00f3n de redondeo* si \n",
      "\n",
      "- Para toda $x \\in \\FF^*$, $\\bigcirc(x) = x$.\n",
      "- Si $x, y \\in \\RR^*$, y $x \\le y$, entonces $\\bigcirc(x) \\le \\bigcirc(y)$.\n",
      "\n",
      "Es decir, el redondeo deja invariantes los n\u00fameros representables en el sistema de punto flotante, y preserva el orden."
     ]
    },
    {
     "cell_type": "markdown",
     "metadata": {},
     "source": [
      "Utilizaremos dos modos de redondeo: $\\bigtriangleup$, que redondea para arriba (hacia $+\\infty$), y $\\bigtriangledown$, que redondea para abajo (hacia $-\\infty$). Se definen como sigue:\n",
      "\n",
      "- $\\bigtriangleup \\! (x) := \\min \\{y \\in \\FF^*: y \\ge x \\}$\n",
      "- $\\bigtriangledown(x) := \\max \\{y \\in \\FF^*: y \\le x \\}$\n",
      "\n",
      "Hablamos de $x$ redondeado para arriba y $x$ redondeado para abajo, respectivamente; estos dos modos de redondeo se llaman modos de redondeo *dirigidos*.\n",
      "\n",
      "Nota que no es evidente c\u00f3mo implementar estas operaciones en la computadora, ya que \u00a1*no podemos representar los n\u00fameros reales originales*!"
     ]
    },
    {
     "cell_type": "markdown",
     "metadata": {},
     "source": [
      "[1] Encuentra $\\bigtriangleup(0.1)$ y $\\bigtriangledown(0.1)$ para aritm\u00e9tica flotante de IEEE. \u00bfEn cu\u00e1nto difieren? \u00bfQu\u00e9 podemos decir sobre el *error de redondeo*?\n",
      "\n",
      "[2] Haz de nuevo el ejercicio anterior para $x=1.1$ y para $x=10.1$.\n",
      "\n",
      "\n",
      "[3] \u00bfQu\u00e9 pasa con $\\bigtriangleup(x)$ y $\\bigtriangledown(x)$ si $x \\in \\FF^*$?\n",
      "\n",
      "[4] \u00bfCu\u00e1l es la relaci\u00f3n entre $\\bigtriangleup(-x)$ y $\\bigtriangledown(x)$?\n"
     ]
    },
    {
     "cell_type": "code",
     "collapsed": false,
     "input": [
      "include(\"from_to_binary.jl\")"
     ],
     "language": "python",
     "metadata": {},
     "outputs": [
      {
       "metadata": {},
       "output_type": "pyout",
       "prompt_number": 2,
       "text": [
        "to_binary2 (generic function with 1 method)"
       ]
      }
     ],
     "prompt_number": 2
    },
    {
     "cell_type": "code",
     "collapsed": false,
     "input": [
      "s = \"101010101\"\n"
     ],
     "language": "python",
     "metadata": {},
     "outputs": [
      {
       "metadata": {},
       "output_type": "pyout",
       "prompt_number": 31,
       "text": [
        "\"101010101\""
       ]
      }
     ],
     "prompt_number": 31
    },
    {
     "cell_type": "code",
     "collapsed": false,
     "input": [
      "s[1:3] * \"hola\" * s[4:19]\n"
     ],
     "language": "python",
     "metadata": {},
     "outputs": [
      {
       "ename": "LoadError",
       "evalue": "BoundsError()\nwhile loading In[50], in expression starting on line 1",
       "output_type": "pyerr",
       "traceback": [
        "BoundsError()\nwhile loading In[50], in expression starting on line 1",
        "",
        " in getindex at ./array.jl:267",
        " in getindex at ./ascii.jl:18"
       ]
      }
     ],
     "prompt_number": 50
    },
    {
     "cell_type": "code",
     "collapsed": false,
     "input": [
      "[c for c in s]"
     ],
     "language": "python",
     "metadata": {},
     "outputs": [
      {
       "metadata": {},
       "output_type": "pyout",
       "prompt_number": 49,
       "text": [
        "9-element Array{Any,1}:\n",
        " '1'\n",
        " '0'\n",
        " '1'\n",
        " '0'\n",
        " '1'\n",
        " '0'\n",
        " '1'\n",
        " '0'\n",
        " '1'"
       ]
      }
     ],
     "prompt_number": 49
    },
    {
     "cell_type": "code",
     "collapsed": false,
     "input": [
      "?replace"
     ],
     "language": "python",
     "metadata": {},
     "outputs": [
      {
       "output_type": "stream",
       "stream": "stderr",
       "text": [
        "INFO: Loading help data...\n"
       ]
      },
      {
       "output_type": "stream",
       "stream": "stdout",
       "text": [
        "Base.replace(string, pat, r[, n])\n",
        "\n",
        "   Search for the given pattern \"pat\", and replace each occurrence\n",
        "   with \"r\". If \"n\" is provided, replace at most \"n\"\n",
        "   occurrences.  As with search, the second argument may be a single\n",
        "   character, a vector or a set of characters, a string, or a regular\n",
        "   expression. If \"r\" is a function, each occurrence is replaced\n",
        "   with \"r(s)\" where \"s\" is the matched substring.\n"
       ]
      }
     ],
     "prompt_number": 48
    },
    {
     "cell_type": "code",
     "collapsed": false,
     "input": [
      "function binary_round_up(y) # Redondea un numero dado al Flotante m\u00e1s cercano, por arriba\n",
      "        \n",
      "    s=to_binary2(y)\n",
      "    n= length(s)\n",
      "    s2=\"\"\n",
      "    j=0\n",
      "\n",
      "        \n",
      "    for i = n:-1:1\n",
      "        \n",
      "        \n",
      "        \n",
      "        if(s[i]=='1')\n",
      "        \n",
      "            s2=\"0\"*s2\n",
      "            j=j+1\n",
      "        \n",
      "        elseif(s[i]=='0')\n",
      "            \n",
      "            s2=\"1\"*s2\n",
      "            j=j+1\n",
      "            break\n",
      "                                \n",
      "        end\n",
      "\n",
      "    end\n",
      "    \n",
      "    s2=s[1:n-j]*s2\n",
      "end\n",
      "\n",
      "            \n",
      "            \n",
      "            \n",
      "binary_round_up(.1)\n",
      "    \n",
      "    \n",
      "    "
     ],
     "language": "python",
     "metadata": {},
     "outputs": [
      {
       "metadata": {},
       "output_type": "pyout",
       "prompt_number": 51,
       "text": [
        "\".0001100110011001101\""
       ]
      }
     ],
     "prompt_number": 51
    },
    {
     "cell_type": "code",
     "collapsed": false,
     "input": [
      "function binary_round_down(y) # Redondea un numero dado al Flotante m\u00e1s cercano, por arriba\n",
      "        \n",
      "    s=to_binary2(y)\n",
      "    n= length(s)\n",
      "    s2=\"\"\n",
      "    j=0\n",
      "\n",
      "        \n",
      "    for i = n:-1:1\n",
      "        \n",
      "        \n",
      "        \n",
      "        if(s[i]=='1')\n",
      "        \n",
      "            s2=\"0\"*s2\n",
      "            j=j+1\n",
      "        \n",
      "        elseif(s[i]=='0')\n",
      "            \n",
      "            s2=\"1\"*s2\n",
      "            j=j+1\n",
      "            break\n",
      "                                \n",
      "        end\n",
      "\n",
      "    end\n",
      "    \n",
      "    s2=s[1:n-j]*s2\n",
      "end"
     ],
     "language": "python",
     "metadata": {},
     "outputs": []
    },
    {
     "cell_type": "markdown",
     "metadata": {},
     "source": [
      "Existen otros modos de redondeo adem\u00e1s de los redondeos arriba mencionados:\n",
      "\n",
      "- Redondeo a cero (truncamiento): $\\square_z(x) = {\\rm sign}(x) \\max\\{y \\in \\FF^*: y\\leq |x| \\}$\n",
      "\n",
      "- Redondeo al m\u00e1s cercano (*round to nearest*): como su nombre lo indica, se redondea al n\u00famero de punto flotante m\u00e1s cercano, usando $\\bigtriangleup(x)$ o $\\bigtriangledown(x)$ seg\u00fan sea el caso. Definiendo $\\mu = (\\bigtriangleup(x) + \\bigtriangledown(x))/2$, entonces:\n",
      "\n",
      "\\begin{equation}\n",
      "\\square_n(x) = \\left\\{\n",
      "\\begin{array}{1 1}\n",
      "\\bigtriangledown(x), &x\\in[\\bigtriangledown(x),\\mu)\\\\\n",
      "\\bigtriangleup(x),   &x\\in[\\mu,\\bigtriangleup(x)].\\\\\n",
      "\\end{array}\n",
      "\\right.\n",
      "\\end{equation}\n",
      "\n",
      "- Redondeo al m\u00e1s cercano *parejo* (*round to nearest even*): es parecido al modo anterior *logrando* que el redondeo hacia arriba y hacia abajo ocurran con la misma probabilidad. (La sutileza en la definici\u00f3n de $\\square_n(x)$ est\u00e1 en que la definici\u00f3n involucra un intervalo cerrado y uno semicerrado.) Este redondeo involucra en la definici\u00f3n la paridad del \u00faltimo d\u00edgito de la representaci\u00f3n de punto flotante de $\\bigtriangleup(x)$ y $\\bigtriangledown(x)$. Este modo de redondeo es el modo m\u00e1s com\u00fan."
     ]
    },
    {
     "cell_type": "heading",
     "level": 2,
     "metadata": {},
     "source": [
      "Aritm\u00e9tica de punto flotante"
     ]
    },
    {
     "cell_type": "markdown",
     "metadata": {},
     "source": [
      "\u00bfC\u00f3mo podemos hacer aritm\u00e9tica en el mundo de punto flotante?\n",
      "\n",
      "[5] Encuentra unos ejemplos de pares de  n\u00fameros $x , y \\in \\FF$ tal que $x \\oplus y \\notin \\FF$. (Aqu\u00ed, $\\FF$ denota a los flotantes de doble precisi\u00f3n de IEEE, y $\\oplus$ es alguna operaci\u00f3n aritm\u00e9tica entre x y y.)"
     ]
    },
    {
     "cell_type": "markdown",
     "metadata": {},
     "source": [
      "[6] \u00bfQu\u00e9 podemos hacer al respecto?"
     ]
    },
    {
     "cell_type": "markdown",
     "metadata": {},
     "source": [
      "[7] En los reales tenemos que, si se cumple $x+y = x+y'$, entonces $y = y'$. \u00bfSe cumple esto entre los n\u00fameros de punto flotante? Si tu respuesta es **no**, da un ejemplo."
     ]
    },
    {
     "cell_type": "markdown",
     "metadata": {},
     "source": [
      "[8] Analiza el caso de iterar el mapeo $f:[0,1] \\to [0,1]$ dado por $f(x) = 3x \\mathrm{\\ mod\\ } 1$, con la condici\u00f3n inicial $x_0 = \\frac{1}{10}$:\n",
      "\n",
      "1. \u00bfQu\u00e9 pasa anal\u00edticamente?\n",
      "2. \u00bfQu\u00e9 pasa num\u00e9ricamente?\n",
      "3. \u00bfQu\u00e9 pasa si consideras una condici\u00f3n inicial $x_0$ arbitraria?\n",
      "\n",
      "[Nota: $\\mathrm{mod\\ } 1$ quiere decir que s\u00f3lo consideramos la parte fraccionaria entre $0$ y $1$ de la respuesta en cada paso.]"
     ]
    },
    {
     "cell_type": "code",
     "collapsed": false,
     "input": [],
     "language": "python",
     "metadata": {},
     "outputs": []
    }
   ],
   "metadata": {}
  }
 ]
}