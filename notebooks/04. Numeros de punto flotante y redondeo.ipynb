{
 "metadata": {
  "language": "Julia",
  "name": "",
  "signature": "sha256:12102282f835d2b18f0c3d1846aecc3300258df935b35c2a74e5f7789c1b33df"
 },
 "nbformat": 3,
 "nbformat_minor": 0,
 "worksheets": [
  {
   "cells": [
    {
     "cell_type": "markdown",
     "metadata": {},
     "source": [
      "# 04. N\u00fameros de punto flotante y redondeo"
     ]
    },
    {
     "cell_type": "markdown",
     "metadata": {},
     "source": [
      "### 1. N\u00fameros de punto flotante y la normal IEEE 744"
     ]
    },
    {
     "cell_type": "markdown",
     "metadata": {},
     "source": [
      "Los n\u00fameros de punto flotante son n\u00fameros reales que tienen la forma:\n",
      "\n",
      "\\begin{equation}\n",
      "x = (-1)^\\sigma m \\times \\beta^e,\n",
      "\\end{equation}\n",
      "donde $\\beta\\geq 2$ es un entero mayor que define la *base*, $m = (b_0.b_1\\, b_2\\, b_3\\dots)_\\beta$ es la *mantisa* o *significante* escrita en la base $\\beta$, donde $b_i = {0, 1, \\dots, \\beta-1}$, y $\\sigma$ sirve para definir el signo. Finalmente, $e$, el exponente, es un n\u00famero entero. Para evitar *las colas infinitas de nueves*, que en binario son las de unos, uno adem\u00e1s pide que $0\\leq \\beta_i \\leq \\beta-2$ para un n\u00famero infinito de $i$'s.\n",
      "\n",
      "Este conjunto es *no numerable*, como los reales. Esta representaci\u00f3n *no es \u00fanica*.\n",
      "\n",
      "Llevar los reales a la computadora obviamente involucra hacer dos concesiones:  en primer lugar, uno debe considerar conjuntos *finitos* de n\u00fameros como modelo de los reales, y en segundo t\u00e9rmino, que la representaci\u00f3n sea *\u00fanica*.\n",
      "\n",
      "En particular, pedimos que el primer d\u00edgito $b_0$ no sea cero para todo $x$ distinto de cero; los n\u00fameros de punto flotante que satisfacen esta condici\u00f3n se llaman *normales* o *normalizados*."
     ]
    },
    {
     "cell_type": "markdown",
     "metadata": {},
     "source": [
      "Hacer que el n\u00famero de *bits* (o sea, la base es $\\beta=2$) sea finito no es suficiente considerar\n",
      "que la mantisa consista de un n\u00famero finito de entradas, sino adem\u00e1s que el rango de $e$ sea *finito*. Esto es:\n",
      "\n",
      "\\begin{eqnarray}\n",
      "m & = & (b_0.b_1\\,b_2\\,\\dots b_p),\\\\\n",
      "e & \\in & [ e_{min}, e_{max} ].\\\\\n",
      "\\end{eqnarray}\n",
      "\n",
      "Aqu\u00ed, $p$ se conoce como el n\u00famero de *d\u00edgitos significativos* (*precision* en ingl\u00e9s), que **no** hay que confundir con la precisi\u00f3n (*accuracy*).\n",
      "\n",
      "En el caso de la representaci\u00f3n binaria, dado que $b_0=1$, entonces uno *puede* obviar esto, lo que significa que el bit $b_0$ **no** se guarda. A esta convenci\u00f3n se le llama la *regla del bit escondido* (*hidden bit rule*). "
     ]
    },
    {
     "cell_type": "markdown",
     "metadata": {},
     "source": [
      "-----\n",
      "\n",
      "**Ejercicio 1** \n",
      "\n",
      "Dados $p$, $e_{min}$ y $e_{max}$, usando el sistema binario, \u00bfde cu\u00e1ntos n\u00fameros *normales* consiste el conjunto? \u00bfY si se trata de otra base $\\beta$? \u00bfEst\u00e1n uniformemente distribuidos los n\u00fameros normales? \u00bfCu\u00e1l es la distancia entre el 0 y el primer n\u00famero positivo distinto de cero?\n",
      "*NOTA* Para guiar la respuesta, uno puede jugar con $\\beta=2$, $p=2$,  $e_{min} = -1$ y $e_{max} = 2$, pero la idea es obtener expresiones generales.\n",
      "\n",
      "(Entre par\u00e9ntesis, a estas alturas del partido deben haber escrito funciones que permiten pasar de un entero a una cadena binaria equivalente, y viceversa, y de un n\u00famero de punto flotante en base 10 al equivalente en binario, y viceversa. No s\u00f3lo se trata de que estas funciones est\u00e9n escritas, sino de que nos sean *\u00fatiles*, o sea, de que den resultados que podemos confiar y usar.)\n"
     ]
    },
    {
     "cell_type": "code",
     "collapsed": false,
     "input": [
      "num"
     ],
     "language": "python",
     "metadata": {},
     "outputs": [
      {
       "ename": "LoadError",
       "evalue": "BoundsError()\nwhile loading In[19], in expression starting on line 1",
       "output_type": "pyerr",
       "traceback": [
        "BoundsError()\nwhile loading In[19], in expression starting on line 1",
        "",
        " in setindex! at array.jl:307"
       ]
      }
     ],
     "prompt_number": 19
    },
    {
     "cell_type": "code",
     "collapsed": false,
     "input": [
      "function find_normals(p)\n",
      "   \n",
      "    j=0\n",
      "    \n",
      "    num=\".\"\n",
      "    \n",
      "    for i= 1:p-1\n",
      "        num=num*\"0\"\n",
      "    end\n",
      "\n",
      "    num=num*\"1\"\n",
      "    \n",
      "    \n",
      "end\n",
      "\n",
      "\n",
      "      \n",
      "    \n",
      "    \n",
      "    "
     ],
     "language": "python",
     "metadata": {},
     "outputs": [
      {
       "metadata": {},
       "output_type": "pyout",
       "prompt_number": 11,
       "text": [
        "\".00001\""
       ]
      }
     ],
     "prompt_number": 11
    },
    {
     "cell_type": "code",
     "collapsed": false,
     "input": [
      "include(\"from_to_binary.jl\")"
     ],
     "language": "python",
     "metadata": {},
     "outputs": [
      {
       "metadata": {},
       "output_type": "pyout",
       "prompt_number": 4,
       "text": [
        "to_binary2 (generic function with 1 method)"
       ]
      }
     ],
     "prompt_number": 4
    },
    {
     "cell_type": "code",
     "collapsed": false,
     "input": [],
     "language": "python",
     "metadata": {},
     "outputs": [
      {
       "metadata": {},
       "output_type": "pyout",
       "prompt_number": 7,
       "text": [
        "21"
       ]
      }
     ],
     "prompt_number": 7
    },
    {
     "cell_type": "markdown",
     "metadata": {},
     "source": [
      "---\n",
      "\n",
      "**Ejercicio 2** \n",
      "\n",
      "\u00bfC\u00f3mo se representa al $x=0$ en el conjunto anterior? \u00bfFunciona la regla del bit escondido para una base $\\beta>3$?"
     ]
    },
    {
     "cell_type": "code",
     "collapsed": false,
     "input": [],
     "language": "python",
     "metadata": {},
     "outputs": []
    },
    {
     "cell_type": "markdown",
     "metadata": {},
     "source": [
      "Del ejercicio 1 arriba, uno se da cuenta de que hay una distancia an\u00f3malamente grande entre 0 y el primer n\u00famero positivo. Esto trae problemas pr\u00e1cticos relacionados con la p\u00e9rdida de precisi\u00f3n cuando se tienen cantidades cercanas a cero. La manera de evitar esto es permitir que haya ciertos n\u00fameros que no son normales; a \u00e9stos se les llama *subnormales*. Un n\u00famero distinto de cero es subnormal si $b_0=0$. Esto permite llegar a cero de manera gradual al incorporar estos n\u00fameros al conjunto de n\u00fameros representables.\n"
     ]
    },
    {
     "cell_type": "markdown",
     "metadata": {},
     "source": [
      "---\n",
      "\n",
      "**Ejercicio 3**\n",
      "\n",
      "En el ejemplo de juguete anterior ($\\beta=2$, $p=2$,  $e_{min} = -1$ y $e_{max} = 2$) enumera los posibles n\u00fameros subnormales. \u00bfC\u00f3mo cambia la distancia de 0 al n\u00famero positivo m\u00e1s pr\u00f3ximo? \u00bfEl espaciamiento entre los n\u00fameros subnormales, es uniforme?\n"
     ]
    },
    {
     "cell_type": "code",
     "collapsed": false,
     "input": [],
     "language": "python",
     "metadata": {},
     "outputs": []
    },
    {
     "cell_type": "markdown",
     "metadata": {},
     "source": [
      "---\n",
      "\n",
      "**Ejercicio 4**\n",
      "\n",
      "\u00bfQu\u00e9 expresiones definen a $N_{min}$ y $N_{max}$, los n\u00fameros de punto flotante (positivos) m\u00ednimo y m\u00e1ximo? Obt\u00e9n los resultados para los n\u00fameros normales y los subnormales."
     ]
    },
    {
     "cell_type": "markdown",
     "metadata": {},
     "source": [
      "La norma [IEEE 754](http://en.wikipedia.org/wiki/IEEE_floating_point) define el est\u00e1ndar de la representaci\u00f3n de los n\u00fameros de punto flotante en las computadoras. En particular, aqu\u00ed nos interesar\u00e1 la representaci\u00f3n *en doble precisi\u00f3n* o de 64-bits, que consiste en el primer bit que contiene el signo $\\sigma$, de un exponente $e$ de 11-bits que tiene un *sesgo* (*bias*) $B_*$ y de la mantisa que consta de $p=52$ bits (de facto, $p=53$, si se incluye la regla del bit escondido). El resultado claramente son los 64 bits de almacenamiento.\n",
      "\n",
      "El sesgo se introduce por la siguiente raz\u00f3n. Sin sesgo, el exponente $e$ var\u00eda entre 0 y $2^{E_*} - 1$, donde $E_*$ son el n\u00famero de bits asignados al exponente. Entonces, el sesgo se introduce *restando* $B_* = 2^{E_*-1} - 1$ del exponente, lo que de facto hace que el rango del exponente sea $e \\in [-2^{E_*-1} + 1, 2^{E_*-1}]$.\n",
      "\n"
     ]
    },
    {
     "cell_type": "markdown",
     "metadata": {},
     "source": [
      "---\n",
      "\n",
      "**Ejercicio 5**\n",
      "\n",
      "Usando `bits` y un poco de imaginaci\u00f3n, cu\u00e1les son las reglas para representar\n",
      "- $x=$`NaN`\n",
      "\n",
      "- $x=$`Inf`\n",
      "\n",
      "- un n\u00famero $x>0$ *normal*\n",
      "\n",
      "- un n\u00famero $x$ *subnormal*\n",
      "\n",
      "- $x=0.0$ y $x = -0.0$"
     ]
    },
    {
     "cell_type": "code",
     "collapsed": false,
     "input": [],
     "language": "python",
     "metadata": {},
     "outputs": []
    },
    {
     "cell_type": "markdown",
     "metadata": {},
     "source": [
      "---\n",
      "\n",
      "**Ejercicio 6**\n",
      "\n",
      "- Dado que los n\u00fameros de punto flotante son *finitos*, construye la representaci\u00f3n decimal de dos n\u00fameros normales de punto flotante *consecutivos*, y dos subnormales consecutivos.\n",
      "\n",
      "- \u00bfCu\u00e1l es la representaci\u00f3n binaria del promedio de esos dos n\u00fameros? \u00bfQu\u00e9 obtienes a partir de tus programas?\n",
      "\n",
      "- \u00bfCu\u00e1l es la representaci\u00f3n binaria de la diferencia?"
     ]
    },
    {
     "cell_type": "code",
     "collapsed": false,
     "input": [],
     "language": "python",
     "metadata": {},
     "outputs": []
    },
    {
     "cell_type": "markdown",
     "metadata": {},
     "source": [
      "---\n",
      "\n",
      "**Ejercicio 7** Donde *todo esto*, y mucho m\u00e1s, puede ser importante...\n",
      "\n",
      "Escribe una funci\u00f3n que eval\u00fae\n",
      "\n",
      "\\begin{equation}\n",
      "f(x,y) = 333.75 y^6 + x^2 (11 x^2 y^2 - y^6 - 121 y^4 - 2) + 5.5 y^8 + \\frac{x}{2y}\n",
      "\\end{equation}\n",
      "\n",
      "Usando esta funci\u00f3n, *demuestra* que $f(x=77617, y=33096) = -0.8273960599468214$.\n",
      "\n",
      "**NOTA** Los n\u00fameros jan sido verificados y *son correctos* :-)"
     ]
    },
    {
     "cell_type": "code",
     "collapsed": false,
     "input": [],
     "language": "python",
     "metadata": {},
     "outputs": []
    },
    {
     "cell_type": "markdown",
     "metadata": {},
     "source": [
      "---\n",
      "\n",
      "**Ejercicio 8**\n",
      "\n",
      "Pensando en que vas a generar datos para hacer una gr\u00e1fica (con suficientes puntos), genera dichos datos para los *polinomios* $f(x) = (1-x)^6$ y $g(x) = x^6 -6x^5 + 15x^4 -20 x^3 + 15x^2 - 6 x + 1$, en el dominio $0.995 \\leq x \\leq 1.005$. \u00bfHay algo sorprendente en esto?"
     ]
    },
    {
     "cell_type": "code",
     "collapsed": false,
     "input": [],
     "language": "python",
     "metadata": {},
     "outputs": []
    },
    {
     "cell_type": "markdown",
     "metadata": {},
     "source": [
      "---\n",
      "\n",
      "**Ejercicio 9**\n",
      "\n",
      "Explica por qu\u00e9 es mala idea usar como paso de integraci\u00f3n $0.1$ o $0.01$, u otros valores de este estilo. \u00bfQu\u00e9 pasa con el tiempo que vas calculando en cada paso de la integraci\u00f3n?"
     ]
    },
    {
     "cell_type": "code",
     "collapsed": false,
     "input": [],
     "language": "python",
     "metadata": {},
     "outputs": []
    }
   ],
   "metadata": {}
  }
 ]
}