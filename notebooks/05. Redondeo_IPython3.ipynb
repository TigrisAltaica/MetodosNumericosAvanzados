{
 "cells": [
  {
   "cell_type": "markdown",
   "metadata": {},
   "source": [
    "# Redondeo"
   ]
  },
  {
   "cell_type": "markdown",
   "metadata": {},
   "source": [
    "$\\newcommand{\\RR}{\\mathbb{R}}$\n",
    "$\\newcommand{\\FF}{\\mathbb{F}}$\n",
    "\n",
    "Tenemos una representación del conjunto no-numerable $\\RR$ a través del conjunto finito $\\FF$. ¿Cómo podemos pasar de un número real a un número flotante, si el número real no es exactamente representable (lo cual es el caso para ¡*casi todos* los números reales!)? Extenderemos para este fin los números reales y los flotantes con $\\pm \\infty$, y hablaremos de los reales extendidos $\\RR^* := \\RR \\cup \\{-\\infty, +\\infty \\}$  y $\\FF^* := \\FF \\cup \\{-\\infty, +\\infty \\}$.\n",
    "\n",
    "Un mapeo $\\bigcirc: \\RR^* \\to \\FF^*$ es una *operación de redondeo* si \n",
    "\n",
    "- Para toda $x \\in \\FF^*$, $\\bigcirc(x) = x$.\n",
    "- Si $x, y \\in \\RR^*$, y $x \\le y$, entonces $\\bigcirc(x) \\le \\bigcirc(y)$.\n",
    "\n",
    "Es decir, el redondeo deja invariantes los números representables en el sistema de punto flotante, y preserva el orden."
   ]
  },
  {
   "cell_type": "markdown",
   "metadata": {},
   "source": [
    "Utilizaremos dos modos de redondeo: $\\bigtriangleup$, que redondea para arriba (hacia $+\\infty$), y $\\bigtriangledown$, que redondea para abajo (hacia $-\\infty$). Se definen como sigue:\n",
    "\n",
    "- $\\bigtriangleup \\! (x) := \\min \\{y \\in \\FF^*: y \\ge x \\}$\n",
    "- $\\bigtriangledown(x) := \\max \\{y \\in \\FF^*: y \\le x \\}$\n",
    "\n",
    "Hablamos de $x$ redondeado para arriba y $x$ redondeado para abajo, respectivamente; estos dos modos de redondeo se llaman modos de redondeo *dirigidos*.\n",
    "\n",
    "Nota que no es evidente cómo implementar estas operaciones en la computadora, ya que ¡*no podemos representar los números reales originales*!"
   ]
  },
  {
   "cell_type": "markdown",
   "metadata": {},
   "source": [
    "[1] (i) Si tuviéramos un número real positivo $x$ (es decir, con  precisión infinita), ¿cómo podríamos encontrar $\\bigtriangleup(x)$ y $\\bigtriangledown(x)$?\n",
    "\n",
    "(ii) Encuentra $\\bigtriangleup(0.1)$ y $\\bigtriangledown(0.1)$ para aritmética flotante de IEEE. ¿En cuánto difieren? ¿Qué podemos decir sobre el *error de redondeo*?\n",
    "\n",
    "[2] Haz de nuevo el ejercicio anterior para $x=1.1$ y para $x=10.1$.\n",
    "\n",
    "[3] ¿Qué pasa con $\\bigtriangleup(x)$ y $\\bigtriangledown(x)$ si $x \\in \\FF^*$?\n",
    "\n",
    "[4] ¿Cuál es la relación entre $\\bigtriangleup(-x)$ y $\\bigtriangledown(x)$?\n"
   ]
  },
  {
   "cell_type": "markdown",
   "metadata": {},
   "source": [
    "Existen otros modos de redondeo además de los redondeos arriba mencionados:\n",
    "\n",
    "- Redondeo a cero (truncamiento): $\\square_z(x) = {\\rm sign}(x) \\max\\{y \\in \\FF^*: y\\leq |x| \\}$\n",
    "\n",
    "- Redondeo al más cercano (*round to nearest*): como su nombre lo indica, se redondea al número de punto flotante más cercano, usando $\\bigtriangleup(x)$ o $\\bigtriangledown(x)$ según sea el caso. Definiendo $\\mu = (\\bigtriangleup(x) + \\bigtriangledown(x))/2$, entonces:\n",
    "\n",
    "\\begin{equation}\n",
    "\\square_n(x) = \\left\\{\n",
    "\\begin{array}{1 1}\n",
    "\\bigtriangledown(x), &x\\in[\\bigtriangledown(x),\\mu)\\\\\n",
    "\\bigtriangleup(x),   &x\\in[\\mu,\\bigtriangleup(x)].\\\\\n",
    "\\end{array}\n",
    "\\right.\n",
    "\\end{equation}\n",
    "\n",
    "- Redondeo al más cercano *parejo* (*round to nearest even*): es parecido al modo anterior *logrando* que el redondeo hacia arriba y hacia abajo ocurran con la misma probabilidad. (La sutileza en la definición de $\\square_n(x)$ está en que la definición involucra un intervalo cerrado y uno semicerrado.) Este redondeo involucra en la definición la paridad del último dígito de la representación de punto flotante de $\\bigtriangleup(x)$ y $\\bigtriangledown(x)$. Este modo de redondeo es el modo más común."
   ]
  },
  {
   "cell_type": "markdown",
   "metadata": {},
   "source": [
    "## Aritmética de punto flotante"
   ]
  },
  {
   "cell_type": "markdown",
   "metadata": {},
   "source": [
    "¿Cómo podemos hacer aritmética en el mundo de punto flotante?\n",
    "\n",
    "[5] Encuentra unos ejemplos de pares de  números $x , y \\in \\FF$ tal que $x \\oplus y \\notin \\FF$. (Aquí, $\\FF$ denota a los flotantes de doble precisión de IEEE, y $\\oplus$ es alguna operación aritmética entre $x$ y $y$.)"
   ]
  },
  {
   "cell_type": "markdown",
   "metadata": {},
   "source": [
    "[6] ¿Qué podemos hacer al respecto?"
   ]
  },
  {
   "cell_type": "markdown",
   "metadata": {},
   "source": [
    "[7] En los reales tenemos que, si se cumple $x+y = x+y'$, entonces $y = y'$. ¿Se cumple esto entre los números de punto flotante? Si tu respuesta es **no**, da un ejemplo."
   ]
  },
  {
   "cell_type": "markdown",
   "metadata": {},
   "source": [
    "[8] Analiza el caso de iterar el mapeo $f:[0,1] \\to [0,1]$ dado por $f(x) = 3x \\mathrm{\\ mod\\ } 1$, con la condición inicial $x_0 = \\frac{1}{10}$:\n",
    "\n",
    "1. ¿Qué pasa analíticamente?\n",
    "2. ¿Qué pasa numéricamente?\n",
    "3. ¿Qué pasa si consideras una condición inicial $x_0$ arbitraria?\n",
    "\n",
    "[Nota: $\\mathrm{mod\\ } 1$ quiere decir que sólo consideramos la parte fraccionaria entre $0$ y $1$ de la respuesta en cada paso.]"
   ]
  },
  {
   "cell_type": "markdown",
   "metadata": {
    "collapsed": false
   },
   "source": [
    "## Aplicando redondeo para obtener resultados garantizados"
   ]
  },
  {
   "cell_type": "markdown",
   "metadata": {},
   "source": [
    "Ya estamos en condiciones para empezar a hacer cálculos útiles.\n",
    "\n",
    "Siguiendo al libro de Tucker, consideremos la suma infinita\n",
    "\n",
    "$$S = \\sum_{n=1}^\\infty \\frac{1}{n^2}.$$\n",
    "\n",
    "Se sabe que $S = \\frac{\\pi^2}{6}$."
   ]
  },
  {
   "cell_type": "markdown",
   "metadata": {},
   "source": [
    "[9] Calcula $S$ numéricamente de manera ingenua. "
   ]
  },
  {
   "cell_type": "markdown",
   "metadata": {},
   "source": [
    "Para calcular $S$ de forma numérica pero *garantizada*, tenemos dos tareas: debemos lidiar con la suma infinita, y luego garantizar que el resultado realmente contenga el valor verdadero."
   ]
  },
  {
   "cell_type": "markdown",
   "metadata": {},
   "source": [
    "[10] Sea la cola de la suma $T_N := \\sum_{n=N+1}^\\infty \\frac{1}{n^2}$. Utiliza un argumento geométrico para mostrar que\n",
    "\n",
    "$$\\int_{N+1}^\\infty \\frac{1}{x^2} dx < T_N < \\int_{N+1}^\\infty \\frac{1}{(x-1)^2} dx,$$\n",
    "\n",
    "y así encuentra cotas para $T_N$."
   ]
  },
  {
   "cell_type": "markdown",
   "metadata": {},
   "source": [
    "[11] Usa redondeo para abajo y arriba para calcular cotas para la parte inicial $S_N := \\sum_{n=1}^N n^{-2}$.\n",
    "\n",
    "[Para cambiar el modo del redondeo en Julia, usamos\n",
    "\n",
    "    set_rounding(Float64, RoundUp)\n",
    "    \n",
    "]"
   ]
  },
  {
   "cell_type": "markdown",
   "metadata": {},
   "source": [
    "[12] Utiliza tus dos últimos resultados para dar cotas *rigurosas* (es decir, garantizadas) para $S$.\n",
    "\n",
    "Verifica que el valor verdadero sí esté contenido adentro de tus cotas."
   ]
  },
  {
   "cell_type": "markdown",
   "metadata": {},
   "source": [
    "[13] Repite el cálculo con `BigFloat` para obtener más precisión.\n",
    "\n",
    "[En Julia, para cambiar la precisión de los `BigFloat`, usamos\n",
    "\n",
    "    set_bigfloat_precision(100).\n",
    "    \n",
    "]"
   ]
  }
 ],
 "metadata": {
  "kernelspec": {
   "display_name": "Julia 0.3.7-pre",
   "language": "julia",
   "name": "julia 0.3"
  },
  "language_info": {
   "name": "julia",
   "version": "0.3.7"
  }
 },
 "nbformat": 4,
 "nbformat_minor": 0
}
